{
 "cells": [
  {
   "cell_type": "code",
   "execution_count": 1,
   "metadata": {},
   "outputs": [
    {
     "name": "stdout",
     "output_type": "stream",
     "text": [
      "0b1001\n"
     ]
    }
   ],
   "source": [
    "a = 9\n",
    "\n",
    "\n",
    "print(bin(a))"
   ]
  },
  {
   "cell_type": "code",
   "execution_count": 2,
   "metadata": {},
   "outputs": [
    {
     "data": {
      "text/plain": [
       "'09'"
      ]
     },
     "execution_count": 2,
     "metadata": {},
     "output_type": "execute_result"
    }
   ],
   "source": [
    "a = 9\n",
    "f'{a:02x}'"
   ]
  },
  {
   "cell_type": "code",
   "execution_count": 3,
   "metadata": {},
   "outputs": [
    {
     "name": "stdout",
     "output_type": "stream",
     "text": [
      "1001\n"
     ]
    }
   ],
   "source": [
    "a = 9\n",
    "print(format(a, 'b'))"
   ]
  },
  {
   "cell_type": "code",
   "execution_count": 10,
   "metadata": {},
   "outputs": [
    {
     "name": "stdout",
     "output_type": "stream",
     "text": [
      "['00001', '0001']\n"
     ]
    }
   ],
   "source": [
    "import re\n",
    "\n",
    "a = 529\n",
    "a = format(a, 'b')\n",
    "\n",
    "r = re.findall('0+1', a)\n",
    "print(r)"
   ]
  },
  {
   "cell_type": "code",
   "execution_count": 14,
   "metadata": {},
   "outputs": [
    {
     "name": "stdout",
     "output_type": "stream",
     "text": [
      "3\n"
     ]
    }
   ],
   "source": [
    "import re\n",
    "\n",
    "a = 529\n",
    "a = format(a, 'b')\n",
    "\n",
    "r = re.findall('0+1', a)\n",
    "\n",
    "zero_count = r[0].count('0')\n",
    "zero_count = r[1].count('0')\n",
    "\n",
    "print(zero_count)"
   ]
  },
  {
   "cell_type": "code",
   "execution_count": 19,
   "metadata": {},
   "outputs": [
    {
     "name": "stdout",
     "output_type": "stream",
     "text": [
      "0\n"
     ]
    }
   ],
   "source": [
    "import re\n",
    "\n",
    "a = 32\n",
    "a = format(a, 'b')\n",
    "\n",
    "r = re.findall('0+1', a)\n",
    "\n",
    "max_zero = 0\n",
    "for n in range(len(r)):\n",
    "\n",
    "    if r[n].count('0') > max_zero:\n",
    "        max_zero = r[n].count('0')\n",
    "    else:\n",
    "        pass\n",
    "\n",
    "print(max_zero)"
   ]
  },
  {
   "cell_type": "code",
   "execution_count": null,
   "metadata": {},
   "outputs": [],
   "source": [
    "a = 32\n",
    "a = format(a, 'b')\n",
    "\n",
    "r = re.findall('0+1', a)\n",
    "\n",
    "max_zero = 0\n",
    "for n in range(len(r)):\n",
    "\n",
    "    if r[n].count('0') > max_zero:\n",
    "        max_zero = r[n].count('0')\n",
    "    else:\n",
    "        pass\n",
    "\n",
    "print(max_zero)"
   ]
  }
 ],
 "metadata": {
  "interpreter": {
   "hash": "b0fa6594d8f4cbf19f97940f81e996739fb7646882a419484c72d19e05852a7e"
  },
  "kernelspec": {
   "display_name": "Python 3.9.10 64-bit",
   "language": "python",
   "name": "python3"
  },
  "language_info": {
   "codemirror_mode": {
    "name": "ipython",
    "version": 3
   },
   "file_extension": ".py",
   "mimetype": "text/x-python",
   "name": "python",
   "nbconvert_exporter": "python",
   "pygments_lexer": "ipython3",
   "version": "3.9.10"
  },
  "orig_nbformat": 4
 },
 "nbformat": 4,
 "nbformat_minor": 2
}

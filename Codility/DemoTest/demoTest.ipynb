{
 "cells": [
  {
   "cell_type": "code",
   "execution_count": 2,
   "metadata": {},
   "outputs": [],
   "source": [
    "A = [1, 3, 6, 4, 1, 2]\n",
    "\n",
    "ans = 1\n",
    "ans_list = []\n",
    "for i in range(len(A)):\n",
    "    for j in range(9):\n",
    "        if ans == A[i]:\n",
    "            pass\n",
    "        else:\n",
    "            ans_list.append(A[i])\n",
    "        ans += 1\n",
    "\n",
    "# ans_list"
   ]
  },
  {
   "cell_type": "code",
   "execution_count": 4,
   "metadata": {},
   "outputs": [
    {
     "data": {
      "text/plain": [
       "[5, 7, 8, 9]"
      ]
     },
     "execution_count": 4,
     "metadata": {},
     "output_type": "execute_result"
    }
   ],
   "source": [
    "A = [1, 3, 6, 4, 1, 2]\n",
    "\n",
    "ans = 1\n",
    "ans_list = []\n",
    "\n",
    "for j in range(9):\n",
    "    if ans in A:\n",
    "        pass\n",
    "    else:\n",
    "        ans_list.append(ans)\n",
    "    ans += 1\n",
    "\n",
    "ans_list"
   ]
  },
  {
   "cell_type": "code",
   "execution_count": 11,
   "metadata": {},
   "outputs": [
    {
     "data": {
      "text/plain": [
       "1"
      ]
     },
     "execution_count": 11,
     "metadata": {},
     "output_type": "execute_result"
    }
   ],
   "source": [
    "# A = [1, 3, 6, 4, 1, 2]\n",
    "# A = [1, 2, 3]\n",
    "A = [-1, -3]\n",
    "\n",
    "ans = 1\n",
    "ans_list = []\n",
    "A_max = max(A)\n",
    "\n",
    "while True:\n",
    "    if ans in A:\n",
    "        pass\n",
    "    else:\n",
    "        if ans < A_max:\n",
    "            ans_list.append(ans)\n",
    "        else:\n",
    "            ans_list.append(ans)\n",
    "            break\n",
    "    ans += 1\n",
    "\n",
    "if len(ans_list) != 0:\n",
    "    ans = ans_list[0]\n",
    "else:\n",
    "    ans = 1\n",
    "\n",
    "# return ans"
   ]
  },
  {
   "cell_type": "code",
   "execution_count": 12,
   "metadata": {},
   "outputs": [
    {
     "data": {
      "text/plain": [
       "1"
      ]
     },
     "execution_count": 12,
     "metadata": {},
     "output_type": "execute_result"
    }
   ],
   "source": [
    "# A = [1, 3, 6, 4, 1, 2]\n",
    "# A = [1, 2, 3]\n",
    "A = [-1, -3]\n",
    "\n",
    "ans = 1\n",
    "ans_list = []\n",
    "\n",
    "    \n",
    "\n",
    "while True:\n",
    "    # リストに正の整数が含まれるか\n",
    "    if max(A) < 0:\n",
    "        break\n",
    "    # ansは最小の正の整数か\n",
    "    elif ans < min(A):\n",
    "        break\n",
    "    # ansがリストに含まれるか\n",
    "    elif ans in A:\n",
    "        pass\n",
    "    # ansがリストの最大値より大きいとき\n",
    "    else:\n",
    "        break\n",
    "\n",
    "    ans += 1\n",
    "\n",
    "\n",
    "# return ans\n",
    "ans"
   ]
  },
  {
   "cell_type": "code",
   "execution_count": 15,
   "metadata": {},
   "outputs": [
    {
     "data": {
      "text/plain": [
       "5"
      ]
     },
     "execution_count": 15,
     "metadata": {},
     "output_type": "execute_result"
    }
   ],
   "source": [
    "A = [1, 3, 6, 4, 1, 2]\n",
    "# A = [1, 2, 3]\n",
    "# A = [-1, -3]\n",
    "\n",
    "ans = 1\n",
    "A_max = max(A)\n",
    "A_min = min(A)\n",
    "\n",
    "while True:\n",
    "    # リストに正の整数が含まれるか\n",
    "    if A_max < 0:\n",
    "        break\n",
    "    # ansは最小の正の整数か\n",
    "    elif ans < A_min:\n",
    "        break\n",
    "    # ansがリストに含まれるか\n",
    "    elif ans in A:\n",
    "        pass\n",
    "    # ansがリストの最大値より大きいとき\n",
    "    else:\n",
    "        break\n",
    "\n",
    "    ans += 1\n",
    "\n",
    "\n",
    "# return ans\n",
    "ans"
   ]
  },
  {
   "cell_type": "code",
   "execution_count": 16,
   "metadata": {},
   "outputs": [
    {
     "data": {
      "text/plain": [
       "5"
      ]
     },
     "execution_count": 16,
     "metadata": {},
     "output_type": "execute_result"
    }
   ],
   "source": [
    "A = [1, 3, 6, 4, 1, 2]\n",
    "# A = [1, 2, 3]\n",
    "# A = [-1, -3]\n",
    "\n",
    "# 受け取ったリスト要素の重複削除\n",
    "A = set(A)\n",
    "A = list(A)\n",
    "\n",
    "ans = 1\n",
    "A_max = max(A)\n",
    "A_min = min(A)\n",
    "\n",
    "while True:\n",
    "    # リストに正の整数が含まれるか\n",
    "    if A_max < 0:\n",
    "        break\n",
    "    # ansは最小の正の整数か\n",
    "    elif ans < A_min:\n",
    "        break\n",
    "    # ansがリストに含まれるか\n",
    "    elif ans in A:\n",
    "        pass\n",
    "    # ansがリストの最大値より大きいとき\n",
    "    else:\n",
    "        break\n",
    "\n",
    "    ans += 1\n",
    "\n",
    "\n",
    "# return ans\n",
    "ans"
   ]
  },
  {
   "cell_type": "code",
   "execution_count": 29,
   "metadata": {},
   "outputs": [
    {
     "data": {
      "text/plain": [
       "1"
      ]
     },
     "execution_count": 29,
     "metadata": {},
     "output_type": "execute_result"
    }
   ],
   "source": [
    "# A = [1, 3, 6, 4, 1, 2]\n",
    "# A = [1, 2, 3]\n",
    "A = [-1, -3]\n",
    "\n",
    "# 受け取ったリスト要素の重複削除\n",
    "A = set(A)\n",
    "A = list(A)\n",
    "A.sort()\n",
    "\n",
    "ans = 1\n",
    "\n",
    "for n in range(len(A)):\n",
    "    # リストに正の整数が含まれるか\n",
    "    if max(A) < 0:\n",
    "        break\n",
    "    # ansは最小の正の整数か\n",
    "    elif ans < A[n]:\n",
    "        break\n",
    "    # ansがリストに含まれるか\n",
    "    elif ans == A[n]:\n",
    "        ans += 1\n",
    "        pass\n",
    "    # ansがリストの最大値より大きいとき\n",
    "    else:\n",
    "        break\n",
    "\n",
    "    \n",
    "\n",
    "\n",
    "# return ans\n",
    "ans"
   ]
  },
  {
   "cell_type": "code",
   "execution_count": 38,
   "metadata": {},
   "outputs": [
    {
     "data": {
      "text/plain": [
       "[-3, -1, 1, 4]"
      ]
     },
     "execution_count": 38,
     "metadata": {},
     "output_type": "execute_result"
    }
   ],
   "source": [
    "# A = [1, 3, 6, 4, 1, 2]\n",
    "# A = [1, 2, 3]\n",
    "# A = [-1, -3]\n",
    "A = [-1, -3, 4, 1]\n",
    "\n",
    "# 受け取ったリスト要素の重複削除\n",
    "A = set(A)\n",
    "A = list(A)\n",
    "A.sort()\n",
    "\n",
    "ans = 1\n",
    "A_max = A[-1]\n",
    "A_len = len(A)\n",
    "\n",
    "for n in range(A_len):\n",
    "    # ansがリストに含まれるか\n",
    "    if ans == A[n]:\n",
    "        ans += 1\n",
    "        pass\n",
    "    # ansは最小の正の整数か\n",
    "    elif ans < A[n] and 0 < A[n]:\n",
    "        break\n",
    "    # リストに正の整数が含まれるか\n",
    "    elif A_max < 0:\n",
    "        break\n",
    "    # ansがリストの最大値より大きいとき\n",
    "    else:\n",
    "        break\n",
    "\n",
    "    \n",
    "\n",
    "\n",
    "# return ans\n",
    "ans\n",
    "A"
   ]
  },
  {
   "cell_type": "code",
   "execution_count": 50,
   "metadata": {},
   "outputs": [
    {
     "data": {
      "text/plain": [
       "2"
      ]
     },
     "execution_count": 50,
     "metadata": {},
     "output_type": "execute_result"
    }
   ],
   "source": [
    "import re\n",
    "\n",
    "# A = [1, 3, 6, 4, 1, 2]\n",
    "# A = [1, 2, 3]\n",
    "# A = [-1, -3]\n",
    "A = [-1, -3, 4, 1]\n",
    "\n",
    "# 受け取ったリスト要素の重複削除\n",
    "A = set(A)\n",
    "A = list(A)\n",
    "A.sort()\n",
    "A_len = len(A)\n",
    "minus_count = 0\n",
    "\n",
    "for i in range(A_len):\n",
    "    if A[i] < 0:\n",
    "        minus_count += 1\n",
    "    else:\n",
    "        break\n",
    "\n",
    "del A[:minus_count]\n",
    "\n",
    "A_len = len(A)\n",
    "ans = 1\n",
    "\n",
    "if A_len != 0:\n",
    "    A_max = A[-1]\n",
    "\n",
    "for n in range(A_len):\n",
    "    # ansがリストに含まれるか\n",
    "    if ans == A[n]:\n",
    "        ans += 1\n",
    "        pass\n",
    "    # ansは最小の正の整数か\n",
    "    elif ans < A[n]:\n",
    "        break\n",
    "    # リストに正の整数が含まれるか\n",
    "    # elif A_max < 0:\n",
    "    #     break\n",
    "    # ansがリストの最大値より大きいとき\n",
    "    else:\n",
    "        break\n",
    "\n",
    "    \n",
    "\n",
    "\n",
    "# return ans\n",
    "ans\n",
    "# A\n",
    "# minus_count"
   ]
  },
  {
   "cell_type": "code",
   "execution_count": 60,
   "metadata": {},
   "outputs": [
    {
     "data": {
      "text/plain": [
       "4"
      ]
     },
     "execution_count": 60,
     "metadata": {},
     "output_type": "execute_result"
    }
   ],
   "source": [
    "# A = [1, 3, 6, 4, 1, 2]\n",
    "A = [1, 2, 3]\n",
    "# A = [-1, -3]\n",
    "# A = [-1, -3, 4, 1]\n",
    "\n",
    "# 受け取ったリスト要素の重複削除\n",
    "A = set(A)\n",
    "A = list(A)\n",
    "A.sort()\n",
    "\n",
    "A_len = len(A)\n",
    "ans = 1\n",
    "\n",
    "for n in range(A_len):\n",
    "    # リスト要素が負数か\n",
    "    if A[n] < 0:\n",
    "        pass\n",
    "    # ansがリストに含まれるか\n",
    "    elif ans == A[n]:\n",
    "        ans += 1\n",
    "        pass\n",
    "    # ansは最小の正の整数か\n",
    "    elif ans < A[n]:\n",
    "        break\n",
    "    else:\n",
    "        break\n",
    "\n",
    "# return ans\n",
    "ans\n",
    "# A"
   ]
  },
  {
   "cell_type": "code",
   "execution_count": null,
   "metadata": {},
   "outputs": [],
   "source": []
  }
 ],
 "metadata": {
  "interpreter": {
   "hash": "b0fa6594d8f4cbf19f97940f81e996739fb7646882a419484c72d19e05852a7e"
  },
  "kernelspec": {
   "display_name": "Python 3.9.10 64-bit",
   "language": "python",
   "name": "python3"
  },
  "language_info": {
   "codemirror_mode": {
    "name": "ipython",
    "version": 3
   },
   "file_extension": ".py",
   "mimetype": "text/x-python",
   "name": "python",
   "nbconvert_exporter": "python",
   "pygments_lexer": "ipython3",
   "version": "3.9.10"
  },
  "orig_nbformat": 4
 },
 "nbformat": 4,
 "nbformat_minor": 2
}

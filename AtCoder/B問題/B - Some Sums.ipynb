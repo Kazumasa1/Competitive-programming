{
 "cells": [
  {
   "cell_type": "code",
   "execution_count": 6,
   "metadata": {},
   "outputs": [
    {
     "data": {
      "text/plain": [
       "['0',\n",
       " '1',\n",
       " '2',\n",
       " '3',\n",
       " '4',\n",
       " '5',\n",
       " '6',\n",
       " '7',\n",
       " '8',\n",
       " '9',\n",
       " '10',\n",
       " '11',\n",
       " '12',\n",
       " '13',\n",
       " '14',\n",
       " '15',\n",
       " '16',\n",
       " '17',\n",
       " '18',\n",
       " '19']"
      ]
     },
     "execution_count": 6,
     "metadata": {},
     "output_type": "execute_result"
    }
   ],
   "source": [
    "# N, A, B = map(int,input().split())\n",
    "N = 20\n",
    "A = 2\n",
    "B = 5\n",
    "\n",
    "N_str = str(N)\n",
    "# Nの桁数を調べる\n",
    "N_len = len(N_str)\n",
    "\n",
    "# for i in N_len:\n",
    "\n",
    "ans_list = []\n",
    "\n",
    "for i in range(N):\n",
    "    i_str = str(i)\n",
    "    # iの桁数を調べる\n",
    "    i_len = len(i_str)\n",
    "\n",
    "    i_sum = \"\"\n",
    "    for j in range(i_len):\n",
    "        i_sum += i_str[j]\n",
    "    \n",
    "    i_sum_int = int(i_sum)\n",
    "\n",
    "    if i_sum_int <= N:\n",
    "        ans_list.append(i_sum)\n",
    "    \n",
    "ans_list"
   ]
  },
  {
   "cell_type": "code",
   "execution_count": 10,
   "metadata": {},
   "outputs": [
    {
     "data": {
      "text/plain": [
       "[2, 3, 4, 5, 11, 12, 13, 14, 20]"
      ]
     },
     "execution_count": 10,
     "metadata": {},
     "output_type": "execute_result"
    }
   ],
   "source": [
    "# N, A, B = map(int,input().split())\n",
    "N = 20\n",
    "A = 2\n",
    "B = 5\n",
    "\n",
    "N_str = str(N)\n",
    "# Nの桁数を調べる\n",
    "N_len = len(N_str)\n",
    "\n",
    "# for i in N_len:\n",
    "\n",
    "ans_list = []\n",
    "\n",
    "for i in range(N+1):\n",
    "    i_str = str(i)\n",
    "    # iの桁数を調べる\n",
    "    i_len = len(i_str)\n",
    "\n",
    "    i_sum = 0\n",
    "    # 格桁の和を求める\n",
    "    for j in range(i_len):\n",
    "        i_sum += int(i_str[j])\n",
    "    \n",
    "    i_sum_int = i_sum\n",
    "\n",
    "    if A <= i_sum_int and i_sum_int <= B:\n",
    "        ans_list.append(i)\n",
    "    \n",
    "ans_list"
   ]
  },
  {
   "cell_type": "code",
   "execution_count": 12,
   "metadata": {},
   "outputs": [
    {
     "data": {
      "text/plain": [
       "84"
      ]
     },
     "execution_count": 12,
     "metadata": {},
     "output_type": "execute_result"
    }
   ],
   "source": [
    "# N, A, B = map(int,input().split())\n",
    "N = 20\n",
    "A = 2\n",
    "B = 5\n",
    "\n",
    "N_str = str(N)\n",
    "# Nの桁数を調べる\n",
    "N_len = len(N_str)\n",
    "\n",
    "# for i in N_len:\n",
    "\n",
    "ans_list = []\n",
    "\n",
    "for i in range(N+1):\n",
    "    i_str = str(i)\n",
    "    # iの桁数を調べる\n",
    "    i_len = len(i_str)\n",
    "\n",
    "    i_sum = 0\n",
    "    # 格桁の和を求める\n",
    "    for j in range(i_len):\n",
    "        i_sum += int(i_str[j])\n",
    "    \n",
    "    i_sum_int = i_sum\n",
    "\n",
    "    if A <= i_sum_int and i_sum_int <= B:\n",
    "        ans_list.append(i)\n",
    "\n",
    "ans = 0\n",
    "for k in range(len(ans_list)):\n",
    "    ans += ans_list[k]\n",
    "\n",
    "ans"
   ]
  },
  {
   "cell_type": "code",
   "execution_count": null,
   "metadata": {},
   "outputs": [],
   "source": []
  }
 ],
 "metadata": {
  "interpreter": {
   "hash": "b0fa6594d8f4cbf19f97940f81e996739fb7646882a419484c72d19e05852a7e"
  },
  "kernelspec": {
   "display_name": "Python 3.9.10 64-bit",
   "language": "python",
   "name": "python3"
  },
  "language_info": {
   "codemirror_mode": {
    "name": "ipython",
    "version": 3
   },
   "file_extension": ".py",
   "mimetype": "text/x-python",
   "name": "python",
   "nbconvert_exporter": "python",
   "pygments_lexer": "ipython3",
   "version": "3.9.10"
  },
  "orig_nbformat": 4
 },
 "nbformat": 4,
 "nbformat_minor": 2
}
